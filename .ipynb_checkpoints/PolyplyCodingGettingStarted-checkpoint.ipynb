{
 "cells": [
  {
   "cell_type": "code",
   "execution_count": 5,
   "id": "5e043fe7",
   "metadata": {},
   "outputs": [],
   "source": [
    "import pprint\n",
    "import numpy as np\n",
    "import networkx as nx\n",
    "import vermouth\n",
    "from polyply.src.topology import Topology\n",
    "from polyply.src.processor import Processor\n",
    "from polyply.src.generate_templates import GenerateTemplates\n",
    "from polyply import TEST_DATA"
   ]
  },
  {
   "cell_type": "code",
   "execution_count": 4,
   "id": "38703a9d",
   "metadata": {},
   "outputs": [
    {
     "name": "stdout",
     "output_type": "stream",
     "text": [
      "Collecting numba\n",
      "  Downloading numba-0.56.4-cp39-cp39-manylinux2014_x86_64.manylinux_2_17_x86_64.whl (3.5 MB)\n",
      "\u001b[K     |████████████████████████████████| 3.5 MB 5.4 MB/s eta 0:00:01\n",
      "\u001b[?25hRequirement already satisfied: setuptools in /home/sang/miniconda3/lib/python3.9/site-packages (from numba) (61.2.0)\n",
      "Requirement already satisfied: numpy<1.24,>=1.18 in /home/sang/miniconda3/lib/python3.9/site-packages (from numba) (1.23.5)\n",
      "Collecting llvmlite<0.40,>=0.39.0dev0\n",
      "  Downloading llvmlite-0.39.1-cp39-cp39-manylinux_2_17_x86_64.manylinux2014_x86_64.whl (34.6 MB)\n",
      "\u001b[K     |████████████████████████████████| 34.6 MB 37.5 MB/s eta 0:00:01\n",
      "\u001b[?25hInstalling collected packages: llvmlite, numba\n",
      "Successfully installed llvmlite-0.39.1 numba-0.56.4\n"
     ]
    }
   ],
   "source": [
    "!pip install numba"
   ]
  },
  {
   "cell_type": "markdown",
   "id": "f1cf4bbf",
   "metadata": {},
   "source": [
    "# Main Data-Structures"
   ]
  },
  {
   "cell_type": "markdown",
   "id": "3f0b595c",
   "metadata": {},
   "source": [
    "Let's have a look at the main data-structures first. Polyply utilizes the meta-molecule (`polyply.src.meta_molecule.MetaMolecule`) as its main data-structure. In addition, there is the Topology object (`polyply.src.topology.Topology`), which essentially is a collection of molecules. Topology objects can be created directly from topology files. It also stores information about non-bonded interactions and a bunch of other things, but they are not reall of importance for this starting guide."
   ]
  },
  {
   "cell_type": "code",
   "execution_count": 6,
   "id": "e148844e",
   "metadata": {},
   "outputs": [],
   "source": [
    "top_path = TEST_DATA + \"/topology_test/system.top\"\n",
    "top = Topology.from_gmx_topfile(top_path, name=\"test\")"
   ]
  },
  {
   "cell_type": "markdown",
   "id": "81a68a71",
   "metadata": {},
   "source": [
    "Lets take a colser look at the molecules. Each `MetaMolecule` is a residue graph, which has nodes that represent residues. Each node has some attributes but at least resid and resname. Node data can be accessed as follows:"
   ]
  },
  {
   "cell_type": "code",
   "execution_count": 7,
   "id": "9b016c6f",
   "metadata": {},
   "outputs": [
    {
     "name": "stdout",
     "output_type": "stream",
     "text": [
      "{'backmap': True,\n",
      " 'build': True,\n",
      " 'density': 0.2857142857142857,\n",
      " 'graph': <Block \"test\" at 0x7f205efc8bb0>,\n",
      " 'nedges': 6,\n",
      " 'nnodes': 7,\n",
      " 'resid': 1,\n",
      " 'resname': 'PMMA'}\n",
      "{'backmap': True,\n",
      " 'build': True,\n",
      " 'density': 0.2857142857142857,\n",
      " 'graph': <Block \"test\" at 0x7f205efc8af0>,\n",
      " 'nedges': 6,\n",
      " 'nnodes': 7,\n",
      " 'resid': 2,\n",
      " 'resname': 'PMMA'}\n",
      "{'backmap': True,\n",
      " 'build': True,\n",
      " 'density': 0.2857142857142857,\n",
      " 'graph': <Block \"test\" at 0x7f205efc8a60>,\n",
      " 'nedges': 6,\n",
      " 'nnodes': 7,\n",
      " 'resid': 3,\n",
      " 'resname': 'PMMA'}\n"
     ]
    }
   ],
   "source": [
    "mol_1 = top.molecules[0]\n",
    "for node in mol_1.nodes:\n",
    "    pprint.pprint(mol_1.nodes[node])"
   ]
  },
  {
   "cell_type": "markdown",
   "id": "6219fbb3",
   "metadata": {},
   "source": [
    "In this case the molecule contains 3 residues of PMMA at the GROMOS level. Furthermore, each `MetaMolecule` has a `molecule` attribute, which is a `vermouth.molecule.Molecule` object and represents the full resolution molecule as a networkx graph. "
   ]
  },
  {
   "cell_type": "code",
   "execution_count": 14,
   "id": "edbbd5f9",
   "metadata": {},
   "outputs": [
    {
     "name": "stdout",
     "output_type": "stream",
     "text": [
      "<vermouth.molecule.Molecule object at 0x148288520>\n"
     ]
    }
   ],
   "source": [
    "pprint.pprint(mol_1.molecule)"
   ]
  },
  {
   "cell_type": "markdown",
   "id": "12add2ec",
   "metadata": {},
   "source": [
    "Each molecule has nodes that represent particles (e.g. atoms at the all-atom level). Each atom at least needs an atomname. "
   ]
  },
  {
   "cell_type": "code",
   "execution_count": 15,
   "id": "bf2932ee",
   "metadata": {},
   "outputs": [
    {
     "name": "stdout",
     "output_type": "stream",
     "text": [
      "{'atomname': 'C1',\n",
      " 'atype': 'CH2',\n",
      " 'charge': 0.0,\n",
      " 'charge_group': 1,\n",
      " 'index': 1,\n",
      " 'mass': 14.0,\n",
      " 'resid': 1,\n",
      " 'resname': 'PMMA'}\n",
      "{'atomname': 'C2',\n",
      " 'atype': 'C',\n",
      " 'charge': 0.0,\n",
      " 'charge_group': 2,\n",
      " 'index': 2,\n",
      " 'mass': 12.0,\n",
      " 'resid': 1,\n",
      " 'resname': 'PMMA'}\n",
      "{'atomname': 'C3',\n",
      " 'atype': 'CH3',\n",
      " 'charge': 0.0,\n",
      " 'charge_group': 3,\n",
      " 'index': 3,\n",
      " 'mass': 15.0,\n",
      " 'resid': 1,\n",
      " 'resname': 'PMMA'}\n",
      "{'atomname': 'C4',\n",
      " 'atype': 'C',\n",
      " 'charge': 0.63,\n",
      " 'charge_group': 4,\n",
      " 'index': 4,\n",
      " 'mass': 12.0,\n",
      " 'resid': 1,\n",
      " 'resname': 'PMMA'}\n",
      "{'atomname': 'O1',\n",
      " 'atype': 'O',\n",
      " 'charge': -0.37,\n",
      " 'charge_group': 5,\n",
      " 'index': 5,\n",
      " 'mass': 16.0,\n",
      " 'resid': 1,\n",
      " 'resname': 'PMMA'}\n",
      "{'atomname': 'O2',\n",
      " 'atype': 'OE',\n",
      " 'charge': -0.55,\n",
      " 'charge_group': 6,\n",
      " 'index': 6,\n",
      " 'mass': 16.0,\n",
      " 'resid': 1,\n",
      " 'resname': 'PMMA'}\n",
      "{'atomname': 'C5',\n",
      " 'atype': 'CH3',\n",
      " 'charge': 0.29,\n",
      " 'charge_group': 7,\n",
      " 'index': 7,\n",
      " 'mass': 15.0,\n",
      " 'resid': 1,\n",
      " 'resname': 'PMMA'}\n",
      "{'atomname': 'C1',\n",
      " 'atype': 'CH2',\n",
      " 'charge': 0.0,\n",
      " 'charge_group': 8,\n",
      " 'index': 8,\n",
      " 'mass': 14.0,\n",
      " 'resid': 2,\n",
      " 'resname': 'PMMA'}\n",
      "{'atomname': 'C2',\n",
      " 'atype': 'C',\n",
      " 'charge': 0.0,\n",
      " 'charge_group': 9,\n",
      " 'index': 9,\n",
      " 'mass': 12.0,\n",
      " 'resid': 2,\n",
      " 'resname': 'PMMA'}\n",
      "{'atomname': 'C3',\n",
      " 'atype': 'CH3',\n",
      " 'charge': 0.0,\n",
      " 'charge_group': 10,\n",
      " 'index': 10,\n",
      " 'mass': 15.0,\n",
      " 'resid': 2,\n",
      " 'resname': 'PMMA'}\n",
      "{'atomname': 'C4',\n",
      " 'atype': 'C',\n",
      " 'charge': 0.63,\n",
      " 'charge_group': 11,\n",
      " 'index': 11,\n",
      " 'mass': 12.0,\n",
      " 'resid': 2,\n",
      " 'resname': 'PMMA'}\n",
      "{'atomname': 'O1',\n",
      " 'atype': 'O',\n",
      " 'charge': -0.37,\n",
      " 'charge_group': 12,\n",
      " 'index': 12,\n",
      " 'mass': 16.0,\n",
      " 'resid': 2,\n",
      " 'resname': 'PMMA'}\n",
      "{'atomname': 'O2',\n",
      " 'atype': 'OE',\n",
      " 'charge': -0.55,\n",
      " 'charge_group': 13,\n",
      " 'index': 13,\n",
      " 'mass': 16.0,\n",
      " 'resid': 2,\n",
      " 'resname': 'PMMA'}\n",
      "{'atomname': 'C5',\n",
      " 'atype': 'CH3',\n",
      " 'charge': 0.29,\n",
      " 'charge_group': 14,\n",
      " 'index': 14,\n",
      " 'mass': 15.0,\n",
      " 'resid': 2,\n",
      " 'resname': 'PMMA'}\n",
      "{'atomname': 'C1',\n",
      " 'atype': 'CH2',\n",
      " 'charge': 0.0,\n",
      " 'charge_group': 15,\n",
      " 'index': 15,\n",
      " 'mass': 14.0,\n",
      " 'resid': 3,\n",
      " 'resname': 'PMMA'}\n",
      "{'atomname': 'C2',\n",
      " 'atype': 'C',\n",
      " 'charge': 0.0,\n",
      " 'charge_group': 16,\n",
      " 'index': 16,\n",
      " 'mass': 12.0,\n",
      " 'resid': 3,\n",
      " 'resname': 'PMMA'}\n",
      "{'atomname': 'C3',\n",
      " 'atype': 'CH3',\n",
      " 'charge': 0.0,\n",
      " 'charge_group': 17,\n",
      " 'index': 17,\n",
      " 'mass': 15.0,\n",
      " 'resid': 3,\n",
      " 'resname': 'PMMA'}\n",
      "{'atomname': 'C4',\n",
      " 'atype': 'C',\n",
      " 'charge': 0.63,\n",
      " 'charge_group': 18,\n",
      " 'index': 18,\n",
      " 'mass': 12.0,\n",
      " 'resid': 3,\n",
      " 'resname': 'PMMA'}\n",
      "{'atomname': 'O1',\n",
      " 'atype': 'O',\n",
      " 'charge': -0.37,\n",
      " 'charge_group': 19,\n",
      " 'index': 19,\n",
      " 'mass': 16.0,\n",
      " 'resid': 3,\n",
      " 'resname': 'PMMA'}\n",
      "{'atomname': 'O2',\n",
      " 'atype': 'OE',\n",
      " 'charge': -0.55,\n",
      " 'charge_group': 20,\n",
      " 'index': 20,\n",
      " 'mass': 16.0,\n",
      " 'resid': 3,\n",
      " 'resname': 'PMMA'}\n",
      "{'atomname': 'C5',\n",
      " 'atype': 'CH3',\n",
      " 'charge': 0.29,\n",
      " 'charge_group': 21,\n",
      " 'index': 21,\n",
      " 'mass': 15.0,\n",
      " 'resid': 3,\n",
      " 'resname': 'PMMA'}\n"
     ]
    }
   ],
   "source": [
    "for node in mol_1.molecule.nodes:\n",
    "    pprint.pprint(mol_1.molecule.nodes[node])"
   ]
  },
  {
   "cell_type": "markdown",
   "id": "6375fbfb",
   "metadata": {},
   "source": [
    "## Good To Know!\n",
    "Coordiantes of both the meta-molecule as well as the molecule are node attributes with the key 'position'. "
   ]
  },
  {
   "cell_type": "markdown",
   "id": "6e04f980",
   "metadata": {},
   "source": [
    "# Processors"
   ]
  },
  {
   "cell_type": "markdown",
   "id": "60b5edd5",
   "metadata": {},
   "source": [
    "Processors are objects that maniuplate the above data-structures in some form. Each processor is a subclass of the `polyply.src.processor.Processor` base-class. Each processor has a `run_system` class method that in turn calss `run_molecule` method. This method runs the processor on a single molecue. For example, the `GenerateTemplates` processor will generate coordinates for each unique residue in the system. \n",
    "\n",
    "Let's define a small test Processor, which will flag a non-terminal residue of our molecule with an attribute `start: True`."
   ]
  },
  {
   "cell_type": "code",
   "execution_count": 24,
   "id": "c630d923",
   "metadata": {},
   "outputs": [],
   "source": [
    "class FindStartingNode(Processor):\n",
    "\n",
    "    def run_molecule(self, meta_molecule):\n",
    "        # first we find a starting node by looping over the molecule nodes \n",
    "        # finding any one with a degree that is larger than 1\n",
    "        for node in meta_molecule.nodes:\n",
    "            if meta_molecule.degree(node) > 1:\n",
    "                # then we set a node attribute:\n",
    "                meta_molecule.nodes[node]['start'] = True\n",
    "        return meta_molecule"
   ]
  },
  {
   "cell_type": "markdown",
   "id": "ac7ec33f",
   "metadata": {},
   "source": [
    "Now let's run it and see if it has tagged the node."
   ]
  },
  {
   "cell_type": "code",
   "execution_count": 30,
   "id": "c6a6c039",
   "metadata": {},
   "outputs": [
    {
     "name": "stderr",
     "output_type": "stream",
     "text": [
      "100%|██████████████████████████████████████████████████████| 1/1 [00:00<00:00, 12372.58it/s]"
     ]
    },
    {
     "name": "stdout",
     "output_type": "stream",
     "text": [
      "{'backmap': True,\n",
      " 'build': True,\n",
      " 'density': 0.2857142857142857,\n",
      " 'graph': <Block \"test\" at 0x1482883d0>,\n",
      " 'nedges': 6,\n",
      " 'nnodes': 7,\n",
      " 'resid': 2,\n",
      " 'resname': 'PMMA',\n",
      " 'start': True}\n"
     ]
    },
    {
     "name": "stderr",
     "output_type": "stream",
     "text": [
      "\n"
     ]
    }
   ],
   "source": [
    "FindStartingNode().run_system(top)\n",
    "pprint.pprint(top.molecules[0].nodes[1])"
   ]
  },
  {
   "cell_type": "markdown",
   "id": "1bedf248",
   "metadata": {},
   "source": [
    "Great! That worked. Additional information that the Processor needs to know should be given as class variables NOT as arguments to the run_molecule or run_system method. For example, if we not only want to tag the central residue but also want it to have a specific resname that we can set. "
   ]
  },
  {
   "cell_type": "code",
   "execution_count": 35,
   "id": "4d02f470",
   "metadata": {},
   "outputs": [],
   "source": [
    "class FindStartingNodeWResname(Processor):\n",
    "\n",
    "    def __init__(self, valid_resnames, *args, **kwargs):\n",
    "        self.valid_resnames = valid_resnames\n",
    "        super().__init__(*args, **kwargs)\n",
    "    \n",
    "    def run_molecule(self, meta_molecule):\n",
    "        # first we find a starting node by looping over the molecule nodes \n",
    "        # finding any one with a degree that is larger than 1\n",
    "        for node in meta_molecule.nodes:\n",
    "            if meta_molecule.degree(node) > 1 and meta_molecule.nodes[node]['resname'] in self.valid_resnames:\n",
    "                # then we set a node attribute:\n",
    "                meta_molecule.nodes[node]['start'] = True\n",
    "        return meta_molecule"
   ]
  },
  {
   "cell_type": "markdown",
   "id": "0ea5fd7a",
   "metadata": {},
   "source": [
    "Before we run we need to clear the molecule attribute. To do so let's reload the topology and then run. "
   ]
  },
  {
   "cell_type": "code",
   "execution_count": 36,
   "id": "2b3604ce",
   "metadata": {},
   "outputs": [
    {
     "name": "stderr",
     "output_type": "stream",
     "text": [
      "100%|██████████████████████████████████████████████████████| 1/1 [00:00<00:00, 20763.88it/s]"
     ]
    },
    {
     "name": "stdout",
     "output_type": "stream",
     "text": [
      "{'backmap': True,\n",
      " 'build': True,\n",
      " 'density': 0.2857142857142857,\n",
      " 'graph': <Block \"test\" at 0x149378be0>,\n",
      " 'nedges': 6,\n",
      " 'nnodes': 7,\n",
      " 'resid': 2,\n",
      " 'resname': 'PMMA',\n",
      " 'start': True}\n"
     ]
    },
    {
     "name": "stderr",
     "output_type": "stream",
     "text": [
      "\n"
     ]
    }
   ],
   "source": [
    "top = Topology.from_gmx_topfile(top_path, name=\"test\")\n",
    "FindStartingNodeWResname(valid_resnames=['PMMA']).run_system(top)\n",
    "pprint.pprint(top.molecules[0].nodes[1])"
   ]
  },
  {
   "cell_type": "markdown",
   "id": "735d47df",
   "metadata": {},
   "source": [
    "Awsome! If we now give it another resname than PMMA no node will be tagged. "
   ]
  },
  {
   "cell_type": "code",
   "execution_count": 37,
   "id": "f42e6c20",
   "metadata": {},
   "outputs": [
    {
     "name": "stderr",
     "output_type": "stream",
     "text": [
      "100%|██████████████████████████████████████████████████████| 1/1 [00:00<00:00, 21732.15it/s]"
     ]
    },
    {
     "name": "stdout",
     "output_type": "stream",
     "text": [
      "{'backmap': True,\n",
      " 'build': True,\n",
      " 'density': 0.2857142857142857,\n",
      " 'graph': <Block \"test\" at 0x1482b55b0>,\n",
      " 'nedges': 6,\n",
      " 'nnodes': 7,\n",
      " 'resid': 2,\n",
      " 'resname': 'PMMA'}\n"
     ]
    },
    {
     "name": "stderr",
     "output_type": "stream",
     "text": [
      "\n"
     ]
    }
   ],
   "source": [
    "top = Topology.from_gmx_topfile(top_path, name=\"test\")\n",
    "FindStartingNodeWResname(valid_resnames=['RANDOM']).run_system(top)\n",
    "pprint.pprint(top.molecules[0].nodes[1])"
   ]
  },
  {
   "cell_type": "markdown",
   "id": "ad048f12",
   "metadata": {},
   "source": [
    "Internally polyply uses MetaMolecule coordinates to compute overlaps and such. However, in the final stage coordinates are backmapped to full resolution. So let's make a Processor that generates random coordinates but this time for the full resolution `meta_molecule.molecule`. "
   ]
  },
  {
   "cell_type": "code",
   "execution_count": 65,
   "id": "bfdb0809",
   "metadata": {},
   "outputs": [],
   "source": [
    "class RandomCoords(Processor):\n",
    "\n",
    "    def run_molecule(self, meta_molecule):\n",
    "        # we use the networx spring-layout to generate coordinates\n",
    "        pos_dict = nx.spring_layout(top.molecules[0].molecule, dim=3)\n",
    "        # then we set the positions attribute\n",
    "        nx.set_node_attributes(top.molecules[0].molecule, pos_dict, 'position')\n",
    "        return meta_molecule"
   ]
  },
  {
   "cell_type": "code",
   "execution_count": 66,
   "id": "2126ad64",
   "metadata": {},
   "outputs": [
    {
     "name": "stderr",
     "output_type": "stream",
     "text": [
      "100%|█████████████████████████████████████████████████████████| 1/1 [00:00<00:00, 72.77it/s]\n"
     ]
    }
   ],
   "source": [
    "RandomCoords().run_system(top)"
   ]
  },
  {
   "cell_type": "markdown",
   "id": "47f9fa61",
   "metadata": {},
   "source": [
    "Let's see if we have coordiantes by printing the positions."
   ]
  },
  {
   "cell_type": "code",
   "execution_count": 67,
   "id": "a097b7b6",
   "metadata": {},
   "outputs": [
    {
     "name": "stdout",
     "output_type": "stream",
     "text": [
      "{0: array([ 0.3291126 , -0.29829468,  0.54393676]),\n",
      " 1: array([ 0.35372457, -0.19568898,  0.40371633]),\n",
      " 2: array([ 0.43422998, -0.11343256,  0.53645119]),\n",
      " 3: array([ 0.60295006, -0.34570304,  0.3850151 ]),\n",
      " 4: array([ 0.75087824, -0.36693881,  0.48032293]),\n",
      " 5: array([ 0.76617718, -0.49192224,  0.30202525]),\n",
      " 6: array([ 0.89782363, -0.60582484,  0.24936785]),\n",
      " 7: array([ 0.09495359, -0.04669307,  0.27958677]),\n",
      " 8: array([-0.16444428,  0.10222782,  0.14006013]),\n",
      " 9: array([-0.15527936,  0.2252142 ,  0.25206805]),\n",
      " 10: array([-0.45370367,  0.10734885,  0.21082959]),\n",
      " 11: array([-0.56192296,  0.13979596,  0.35330832]),\n",
      " 12: array([-0.68646703,  0.08989353,  0.16914798]),\n",
      " 13: array([-0.86324147,  0.07613866,  0.12070652]),\n",
      " 14: array([-0.16832877,  0.19988073, -0.14628247]),\n",
      " 15: array([-0.17344167,  0.28236557, -0.42660542]),\n",
      " 16: array([-0.12651193,  0.4425445 , -0.46648003]),\n",
      " 17: array([-0.20689272,  0.2616752 , -0.69210261]),\n",
      " 18: array([-0.25278481,  0.37086357, -0.82573101]),\n",
      " 19: array([-0.20726815,  0.13801879, -0.86934121]),\n",
      " 20: array([-0.20956302,  0.02853084, -1.        ])}\n"
     ]
    }
   ],
   "source": [
    "pprint.pprint(nx.get_node_attributes(top.molecules[0].molecule, 'position'))"
   ]
  },
  {
   "cell_type": "markdown",
   "id": "693a078c",
   "metadata": {},
   "source": [
    "# Output of molecule coordiantes"
   ]
  },
  {
   "cell_type": "markdown",
   "id": "d17468be",
   "metadata": {},
   "source": [
    "To write out those coordinates the `polyply.Topology` needs to be converted to a `vermouth.System` class that then can write a gro or PDB file. "
   ]
  },
  {
   "cell_type": "code",
   "execution_count": 68,
   "id": "ded480a2",
   "metadata": {},
   "outputs": [],
   "source": [
    "# before we write we have to add box coordiantes\n",
    "top.box = np.array([3.0, 3.0, 3.0])\n",
    "system = top.convert_to_vermouth_system()\n",
    "vermouth.gmx.gro.write_gro(system, \"dummy.gro\", precision=7,\n",
    "                           title='these are random positions', box=top.box, defer_writing=False)"
   ]
  },
  {
   "cell_type": "code",
   "execution_count": 69,
   "id": "b527496d",
   "metadata": {},
   "outputs": [
    {
     "name": "stdout",
     "output_type": "stream",
     "text": [
      "these are random positions\r\n",
      "21\r\n",
      "    1PMMA    C1    1   0.329  -0.298   0.544\r\n",
      "    1PMMA    C2    2   0.354  -0.196   0.404\r\n",
      "    1PMMA    C3    3   0.434  -0.113   0.536\r\n",
      "    1PMMA    C4    4   0.603  -0.346   0.385\r\n",
      "    1PMMA    O1    5   0.751  -0.367   0.480\r\n",
      "    1PMMA    O2    6   0.766  -0.492   0.302\r\n",
      "    1PMMA    C5    7   0.898  -0.606   0.249\r\n",
      "    2PMMA    C1    8   0.095  -0.047   0.280\r\n",
      "    2PMMA    C2    9  -0.164   0.102   0.140\r\n",
      "    2PMMA    C3   10  -0.155   0.225   0.252\r\n",
      "    2PMMA    C4   11  -0.454   0.107   0.211\r\n",
      "    2PMMA    O1   12  -0.562   0.140   0.353\r\n",
      "    2PMMA    O2   13  -0.686   0.090   0.169\r\n",
      "    2PMMA    C5   14  -0.863   0.076   0.121\r\n",
      "    3PMMA    C1   15  -0.168   0.200  -0.146\r\n",
      "    3PMMA    C2   16  -0.173   0.282  -0.427\r\n",
      "    3PMMA    C3   17  -0.127   0.443  -0.466\r\n",
      "    3PMMA    C4   18  -0.207   0.262  -0.692\r\n",
      "    3PMMA    O1   19  -0.253   0.371  -0.826\r\n",
      "    3PMMA    O2   20  -0.207   0.138  -0.869\r\n",
      "    3PMMA    C5   21  -0.210   0.029  -1.000\r\n",
      "3.0 3.0 3.0\r\n"
     ]
    }
   ],
   "source": [
    "!cat dummy.gro"
   ]
  },
  {
   "cell_type": "markdown",
   "id": "e69a7a70",
   "metadata": {},
   "source": [
    "# Nanoparticle Builder"
   ]
  },
  {
   "cell_type": "markdown",
   "id": "a8048032",
   "metadata": {},
   "source": [
    "The nanoparticle builder that generates the NP coordiantes should be a Processor that identifies the nodes which belong to a NP and the generates the coordinates perhaps with a spacegroup argument as instance variable. "
   ]
  }
 ],
 "metadata": {
  "kernelspec": {
   "display_name": "Python 3 (ipykernel)",
   "language": "python",
   "name": "python3"
  },
  "language_info": {
   "codemirror_mode": {
    "name": "ipython",
    "version": 3
   },
   "file_extension": ".py",
   "mimetype": "text/x-python",
   "name": "python",
   "nbconvert_exporter": "python",
   "pygments_lexer": "ipython3",
   "version": "3.9.12"
  }
 },
 "nbformat": 4,
 "nbformat_minor": 5
}
